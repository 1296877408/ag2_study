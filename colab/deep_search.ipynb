{
  "nbformat": 4,
  "nbformat_minor": 0,
  "metadata": {
    "colab": {
      "provenance": []
    },
    "kernelspec": {
      "name": "python3",
      "display_name": "Python 3"
    },
    "language_info": {
      "name": "python"
    }
  },
  "cells": [
    {
      "cell_type": "code",
      "execution_count": null,
      "metadata": {
        "colab": {
          "base_uri": "https://localhost:8080/",
          "height": 1000
        },
        "id": "r5riawsCgj-T",
        "outputId": "098cf9d9-03bd-4658-ca9b-492a982ca371"
      },
      "outputs": [
        {
          "output_type": "stream",
          "name": "stdout",
          "text": [
            "Collecting deepsearcher\n",
            "  Downloading deepsearcher-0.0.1-py3-none-any.whl.metadata (39 kB)\n",
            "Collecting argparse>=1.4.0 (from deepsearcher)\n",
            "  Downloading argparse-1.4.0-py2.py3-none-any.whl.metadata (2.8 kB)\n",
            "Collecting fastapi>=0.115.9 (from deepsearcher)\n",
            "  Downloading fastapi-0.115.12-py3-none-any.whl.metadata (27 kB)\n",
            "Collecting firecrawl-py>=1.12.0 (from deepsearcher)\n",
            "  Downloading firecrawl_py-2.2.0-py3-none-any.whl.metadata (10 kB)\n",
            "Requirement already satisfied: langchain-text-splitters>=0.3.6 in /usr/local/lib/python3.11/dist-packages (from deepsearcher) (0.3.8)\n",
            "Collecting numpy>=2.2.3 (from deepsearcher)\n",
            "  Downloading numpy-2.2.5-cp311-cp311-manylinux_2_17_x86_64.manylinux2014_x86_64.whl.metadata (62 kB)\n",
            "\u001b[2K     \u001b[90m━━━━━━━━━━━━━━━━━━━━━━━━━━━━━━━━━━━━━━━━\u001b[0m \u001b[32m62.0/62.0 kB\u001b[0m \u001b[31m4.7 MB/s\u001b[0m eta \u001b[36m0:00:00\u001b[0m\n",
            "\u001b[?25hRequirement already satisfied: openai>=1.65.1 in /usr/local/lib/python3.11/dist-packages (from deepsearcher) (1.75.0)\n",
            "Requirement already satisfied: pdfplumber>=0.11.5 in /usr/local/lib/python3.11/dist-packages (from deepsearcher) (0.11.6)\n",
            "Collecting pymilvus>=2.5.4 (from deepsearcher)\n",
            "  Downloading pymilvus-2.5.7-py3-none-any.whl.metadata (5.7 kB)\n",
            "Requirement already satisfied: termcolor>=2.5.0 in /usr/local/lib/python3.11/dist-packages (from deepsearcher) (3.0.1)\n",
            "Requirement already satisfied: tqdm>=4.67.1 in /usr/local/lib/python3.11/dist-packages (from deepsearcher) (4.67.1)\n",
            "Collecting uvicorn>=0.34.0 (from deepsearcher)\n",
            "  Downloading uvicorn-0.34.2-py3-none-any.whl.metadata (6.5 kB)\n",
            "Collecting starlette<0.47.0,>=0.40.0 (from fastapi>=0.115.9->deepsearcher)\n",
            "  Downloading starlette-0.46.2-py3-none-any.whl.metadata (6.2 kB)\n",
            "Requirement already satisfied: pydantic!=1.8,!=1.8.1,!=2.0.0,!=2.0.1,!=2.1.0,<3.0.0,>=1.7.4 in /usr/local/lib/python3.11/dist-packages (from fastapi>=0.115.9->deepsearcher) (2.11.3)\n",
            "Requirement already satisfied: typing-extensions>=4.8.0 in /usr/local/lib/python3.11/dist-packages (from fastapi>=0.115.9->deepsearcher) (4.13.2)\n",
            "Requirement already satisfied: requests in /usr/local/lib/python3.11/dist-packages (from firecrawl-py>=1.12.0->deepsearcher) (2.32.3)\n",
            "Collecting python-dotenv (from firecrawl-py>=1.12.0->deepsearcher)\n",
            "  Downloading python_dotenv-1.1.0-py3-none-any.whl.metadata (24 kB)\n",
            "Requirement already satisfied: websockets in /usr/local/lib/python3.11/dist-packages (from firecrawl-py>=1.12.0->deepsearcher) (15.0.1)\n",
            "Requirement already satisfied: nest-asyncio in /usr/local/lib/python3.11/dist-packages (from firecrawl-py>=1.12.0->deepsearcher) (1.6.0)\n",
            "Requirement already satisfied: aiohttp in /usr/local/lib/python3.11/dist-packages (from firecrawl-py>=1.12.0->deepsearcher) (3.11.15)\n",
            "Requirement already satisfied: langchain-core<1.0.0,>=0.3.51 in /usr/local/lib/python3.11/dist-packages (from langchain-text-splitters>=0.3.6->deepsearcher) (0.3.52)\n",
            "Requirement already satisfied: anyio<5,>=3.5.0 in /usr/local/lib/python3.11/dist-packages (from openai>=1.65.1->deepsearcher) (4.9.0)\n",
            "Requirement already satisfied: distro<2,>=1.7.0 in /usr/local/lib/python3.11/dist-packages (from openai>=1.65.1->deepsearcher) (1.9.0)\n",
            "Requirement already satisfied: httpx<1,>=0.23.0 in /usr/local/lib/python3.11/dist-packages (from openai>=1.65.1->deepsearcher) (0.28.1)\n",
            "Requirement already satisfied: jiter<1,>=0.4.0 in /usr/local/lib/python3.11/dist-packages (from openai>=1.65.1->deepsearcher) (0.9.0)\n",
            "Requirement already satisfied: sniffio in /usr/local/lib/python3.11/dist-packages (from openai>=1.65.1->deepsearcher) (1.3.1)\n",
            "Requirement already satisfied: pdfminer.six==20250327 in /usr/local/lib/python3.11/dist-packages (from pdfplumber>=0.11.5->deepsearcher) (20250327)\n",
            "Requirement already satisfied: Pillow>=9.1 in /usr/local/lib/python3.11/dist-packages (from pdfplumber>=0.11.5->deepsearcher) (11.1.0)\n",
            "Requirement already satisfied: pypdfium2>=4.18.0 in /usr/local/lib/python3.11/dist-packages (from pdfplumber>=0.11.5->deepsearcher) (4.30.1)\n",
            "Requirement already satisfied: charset-normalizer>=2.0.0 in /usr/local/lib/python3.11/dist-packages (from pdfminer.six==20250327->pdfplumber>=0.11.5->deepsearcher) (3.4.1)\n",
            "Requirement already satisfied: cryptography>=36.0.0 in /usr/local/lib/python3.11/dist-packages (from pdfminer.six==20250327->pdfplumber>=0.11.5->deepsearcher) (43.0.3)\n",
            "Requirement already satisfied: setuptools>69 in /usr/local/lib/python3.11/dist-packages (from pymilvus>=2.5.4->deepsearcher) (75.2.0)\n",
            "Collecting grpcio<=1.67.1,>=1.49.1 (from pymilvus>=2.5.4->deepsearcher)\n",
            "  Downloading grpcio-1.67.1-cp311-cp311-manylinux_2_17_x86_64.manylinux2014_x86_64.whl.metadata (3.9 kB)\n",
            "Requirement already satisfied: protobuf>=3.20.0 in /usr/local/lib/python3.11/dist-packages (from pymilvus>=2.5.4->deepsearcher) (5.29.4)\n",
            "Collecting ujson>=2.0.0 (from pymilvus>=2.5.4->deepsearcher)\n",
            "  Downloading ujson-5.10.0-cp311-cp311-manylinux_2_17_x86_64.manylinux2014_x86_64.whl.metadata (9.3 kB)\n",
            "Requirement already satisfied: pandas>=1.2.4 in /usr/local/lib/python3.11/dist-packages (from pymilvus>=2.5.4->deepsearcher) (2.2.2)\n",
            "Collecting milvus-lite>=2.4.0 (from pymilvus>=2.5.4->deepsearcher)\n",
            "  Downloading milvus_lite-2.4.12-py3-none-manylinux2014_x86_64.whl.metadata (10.0 kB)\n",
            "Requirement already satisfied: click>=7.0 in /usr/local/lib/python3.11/dist-packages (from uvicorn>=0.34.0->deepsearcher) (8.1.8)\n",
            "Requirement already satisfied: h11>=0.8 in /usr/local/lib/python3.11/dist-packages (from uvicorn>=0.34.0->deepsearcher) (0.14.0)\n",
            "Requirement already satisfied: idna>=2.8 in /usr/local/lib/python3.11/dist-packages (from anyio<5,>=3.5.0->openai>=1.65.1->deepsearcher) (3.10)\n",
            "Requirement already satisfied: certifi in /usr/local/lib/python3.11/dist-packages (from httpx<1,>=0.23.0->openai>=1.65.1->deepsearcher) (2025.1.31)\n",
            "Requirement already satisfied: httpcore==1.* in /usr/local/lib/python3.11/dist-packages (from httpx<1,>=0.23.0->openai>=1.65.1->deepsearcher) (1.0.8)\n",
            "Requirement already satisfied: langsmith<0.4,>=0.1.125 in /usr/local/lib/python3.11/dist-packages (from langchain-core<1.0.0,>=0.3.51->langchain-text-splitters>=0.3.6->deepsearcher) (0.3.31)\n",
            "Requirement already satisfied: tenacity!=8.4.0,<10.0.0,>=8.1.0 in /usr/local/lib/python3.11/dist-packages (from langchain-core<1.0.0,>=0.3.51->langchain-text-splitters>=0.3.6->deepsearcher) (9.1.2)\n",
            "Requirement already satisfied: jsonpatch<2.0,>=1.33 in /usr/local/lib/python3.11/dist-packages (from langchain-core<1.0.0,>=0.3.51->langchain-text-splitters>=0.3.6->deepsearcher) (1.33)\n",
            "Requirement already satisfied: PyYAML>=5.3 in /usr/local/lib/python3.11/dist-packages (from langchain-core<1.0.0,>=0.3.51->langchain-text-splitters>=0.3.6->deepsearcher) (6.0.2)\n",
            "Requirement already satisfied: packaging<25,>=23.2 in /usr/local/lib/python3.11/dist-packages (from langchain-core<1.0.0,>=0.3.51->langchain-text-splitters>=0.3.6->deepsearcher) (24.2)\n",
            "Requirement already satisfied: python-dateutil>=2.8.2 in /usr/local/lib/python3.11/dist-packages (from pandas>=1.2.4->pymilvus>=2.5.4->deepsearcher) (2.8.2)\n",
            "Requirement already satisfied: pytz>=2020.1 in /usr/local/lib/python3.11/dist-packages (from pandas>=1.2.4->pymilvus>=2.5.4->deepsearcher) (2025.2)\n",
            "Requirement already satisfied: tzdata>=2022.7 in /usr/local/lib/python3.11/dist-packages (from pandas>=1.2.4->pymilvus>=2.5.4->deepsearcher) (2025.2)\n",
            "Requirement already satisfied: annotated-types>=0.6.0 in /usr/local/lib/python3.11/dist-packages (from pydantic!=1.8,!=1.8.1,!=2.0.0,!=2.0.1,!=2.1.0,<3.0.0,>=1.7.4->fastapi>=0.115.9->deepsearcher) (0.7.0)\n",
            "Requirement already satisfied: pydantic-core==2.33.1 in /usr/local/lib/python3.11/dist-packages (from pydantic!=1.8,!=1.8.1,!=2.0.0,!=2.0.1,!=2.1.0,<3.0.0,>=1.7.4->fastapi>=0.115.9->deepsearcher) (2.33.1)\n",
            "Requirement already satisfied: typing-inspection>=0.4.0 in /usr/local/lib/python3.11/dist-packages (from pydantic!=1.8,!=1.8.1,!=2.0.0,!=2.0.1,!=2.1.0,<3.0.0,>=1.7.4->fastapi>=0.115.9->deepsearcher) (0.4.0)\n",
            "Requirement already satisfied: aiohappyeyeballs>=2.3.0 in /usr/local/lib/python3.11/dist-packages (from aiohttp->firecrawl-py>=1.12.0->deepsearcher) (2.6.1)\n",
            "Requirement already satisfied: aiosignal>=1.1.2 in /usr/local/lib/python3.11/dist-packages (from aiohttp->firecrawl-py>=1.12.0->deepsearcher) (1.3.2)\n",
            "Requirement already satisfied: attrs>=17.3.0 in /usr/local/lib/python3.11/dist-packages (from aiohttp->firecrawl-py>=1.12.0->deepsearcher) (25.3.0)\n",
            "Requirement already satisfied: frozenlist>=1.1.1 in /usr/local/lib/python3.11/dist-packages (from aiohttp->firecrawl-py>=1.12.0->deepsearcher) (1.5.0)\n",
            "Requirement already satisfied: multidict<7.0,>=4.5 in /usr/local/lib/python3.11/dist-packages (from aiohttp->firecrawl-py>=1.12.0->deepsearcher) (6.4.3)\n",
            "Requirement already satisfied: propcache>=0.2.0 in /usr/local/lib/python3.11/dist-packages (from aiohttp->firecrawl-py>=1.12.0->deepsearcher) (0.3.1)\n",
            "Requirement already satisfied: yarl<2.0,>=1.17.0 in /usr/local/lib/python3.11/dist-packages (from aiohttp->firecrawl-py>=1.12.0->deepsearcher) (1.19.0)\n",
            "Requirement already satisfied: urllib3<3,>=1.21.1 in /usr/local/lib/python3.11/dist-packages (from requests->firecrawl-py>=1.12.0->deepsearcher) (2.3.0)\n",
            "Requirement already satisfied: cffi>=1.12 in /usr/local/lib/python3.11/dist-packages (from cryptography>=36.0.0->pdfminer.six==20250327->pdfplumber>=0.11.5->deepsearcher) (1.17.1)\n",
            "Requirement already satisfied: jsonpointer>=1.9 in /usr/local/lib/python3.11/dist-packages (from jsonpatch<2.0,>=1.33->langchain-core<1.0.0,>=0.3.51->langchain-text-splitters>=0.3.6->deepsearcher) (3.0.0)\n",
            "Requirement already satisfied: orjson<4.0.0,>=3.9.14 in /usr/local/lib/python3.11/dist-packages (from langsmith<0.4,>=0.1.125->langchain-core<1.0.0,>=0.3.51->langchain-text-splitters>=0.3.6->deepsearcher) (3.10.16)\n",
            "Requirement already satisfied: requests-toolbelt<2.0.0,>=1.0.0 in /usr/local/lib/python3.11/dist-packages (from langsmith<0.4,>=0.1.125->langchain-core<1.0.0,>=0.3.51->langchain-text-splitters>=0.3.6->deepsearcher) (1.0.0)\n",
            "Requirement already satisfied: zstandard<0.24.0,>=0.23.0 in /usr/local/lib/python3.11/dist-packages (from langsmith<0.4,>=0.1.125->langchain-core<1.0.0,>=0.3.51->langchain-text-splitters>=0.3.6->deepsearcher) (0.23.0)\n",
            "Requirement already satisfied: six>=1.5 in /usr/local/lib/python3.11/dist-packages (from python-dateutil>=2.8.2->pandas>=1.2.4->pymilvus>=2.5.4->deepsearcher) (1.17.0)\n",
            "Requirement already satisfied: pycparser in /usr/local/lib/python3.11/dist-packages (from cffi>=1.12->cryptography>=36.0.0->pdfminer.six==20250327->pdfplumber>=0.11.5->deepsearcher) (2.22)\n",
            "Downloading deepsearcher-0.0.1-py3-none-any.whl (94 kB)\n",
            "\u001b[2K   \u001b[90m━━━━━━━━━━━━━━━━━━━━━━━━━━━━━━━━━━━━━━━━\u001b[0m \u001b[32m94.9/94.9 kB\u001b[0m \u001b[31m7.2 MB/s\u001b[0m eta \u001b[36m0:00:00\u001b[0m\n",
            "\u001b[?25hDownloading argparse-1.4.0-py2.py3-none-any.whl (23 kB)\n",
            "Downloading fastapi-0.115.12-py3-none-any.whl (95 kB)\n",
            "\u001b[2K   \u001b[90m━━━━━━━━━━━━━━━━━━━━━━━━━━━━━━━━━━━━━━━━\u001b[0m \u001b[32m95.2/95.2 kB\u001b[0m \u001b[31m7.3 MB/s\u001b[0m eta \u001b[36m0:00:00\u001b[0m\n",
            "\u001b[?25hDownloading firecrawl_py-2.2.0-py3-none-any.whl (136 kB)\n",
            "\u001b[2K   \u001b[90m━━━━━━━━━━━━━━━━━━━━━━━━━━━━━━━━━━━━━━━━\u001b[0m \u001b[32m136.8/136.8 kB\u001b[0m \u001b[31m10.8 MB/s\u001b[0m eta \u001b[36m0:00:00\u001b[0m\n",
            "\u001b[?25hDownloading numpy-2.2.5-cp311-cp311-manylinux_2_17_x86_64.manylinux2014_x86_64.whl (16.4 MB)\n",
            "\u001b[2K   \u001b[90m━━━━━━━━━━━━━━━━━━━━━━━━━━━━━━━━━━━━━━━━\u001b[0m \u001b[32m16.4/16.4 MB\u001b[0m \u001b[31m96.2 MB/s\u001b[0m eta \u001b[36m0:00:00\u001b[0m\n",
            "\u001b[?25hDownloading pymilvus-2.5.7-py3-none-any.whl (226 kB)\n",
            "\u001b[2K   \u001b[90m━━━━━━━━━━━━━━━━━━━━━━━━━━━━━━━━━━━━━━━━\u001b[0m \u001b[32m226.1/226.1 kB\u001b[0m \u001b[31m14.1 MB/s\u001b[0m eta \u001b[36m0:00:00\u001b[0m\n",
            "\u001b[?25hDownloading uvicorn-0.34.2-py3-none-any.whl (62 kB)\n",
            "\u001b[2K   \u001b[90m━━━━━━━━━━━━━━━━━━━━━━━━━━━━━━━━━━━━━━━━\u001b[0m \u001b[32m62.5/62.5 kB\u001b[0m \u001b[31m4.0 MB/s\u001b[0m eta \u001b[36m0:00:00\u001b[0m\n",
            "\u001b[?25hDownloading grpcio-1.67.1-cp311-cp311-manylinux_2_17_x86_64.manylinux2014_x86_64.whl (5.9 MB)\n",
            "\u001b[2K   \u001b[90m━━━━━━━━━━━━━━━━━━━━━━━━━━━━━━━━━━━━━━━━\u001b[0m \u001b[32m5.9/5.9 MB\u001b[0m \u001b[31m99.4 MB/s\u001b[0m eta \u001b[36m0:00:00\u001b[0m\n",
            "\u001b[?25hDownloading milvus_lite-2.4.12-py3-none-manylinux2014_x86_64.whl (45.2 MB)\n",
            "\u001b[2K   \u001b[90m━━━━━━━━━━━━━━━━━━━━━━━━━━━━━━━━━━━━━━━━\u001b[0m \u001b[32m45.2/45.2 MB\u001b[0m \u001b[31m14.2 MB/s\u001b[0m eta \u001b[36m0:00:00\u001b[0m\n",
            "\u001b[?25hDownloading python_dotenv-1.1.0-py3-none-any.whl (20 kB)\n",
            "Downloading starlette-0.46.2-py3-none-any.whl (72 kB)\n",
            "\u001b[2K   \u001b[90m━━━━━━━━━━━━━━━━━━━━━━━━━━━━━━━━━━━━━━━━\u001b[0m \u001b[32m72.0/72.0 kB\u001b[0m \u001b[31m5.5 MB/s\u001b[0m eta \u001b[36m0:00:00\u001b[0m\n",
            "\u001b[?25hDownloading ujson-5.10.0-cp311-cp311-manylinux_2_17_x86_64.manylinux2014_x86_64.whl (53 kB)\n",
            "\u001b[2K   \u001b[90m━━━━━━━━━━━━━━━━━━━━━━━━━━━━━━━━━━━━━━━━\u001b[0m \u001b[32m53.6/53.6 kB\u001b[0m \u001b[31m3.9 MB/s\u001b[0m eta \u001b[36m0:00:00\u001b[0m\n",
            "\u001b[?25hInstalling collected packages: argparse, uvicorn, ujson, python-dotenv, numpy, milvus-lite, grpcio, starlette, pymilvus, firecrawl-py, fastapi, deepsearcher\n",
            "  Attempting uninstall: numpy\n",
            "    Found existing installation: numpy 2.0.2\n",
            "    Uninstalling numpy-2.0.2:\n",
            "      Successfully uninstalled numpy-2.0.2\n",
            "  Attempting uninstall: grpcio\n",
            "    Found existing installation: grpcio 1.71.0\n",
            "    Uninstalling grpcio-1.71.0:\n",
            "      Successfully uninstalled grpcio-1.71.0\n",
            "\u001b[31mERROR: pip's dependency resolver does not currently take into account all the packages that are installed. This behaviour is the source of the following dependency conflicts.\n",
            "tensorflow 2.18.0 requires numpy<2.1.0,>=1.26.0, but you have numpy 2.2.5 which is incompatible.\n",
            "numba 0.60.0 requires numpy<2.1,>=1.22, but you have numpy 2.2.5 which is incompatible.\n",
            "grpcio-status 1.71.0 requires grpcio>=1.71.0, but you have grpcio 1.67.1 which is incompatible.\u001b[0m\u001b[31m\n",
            "\u001b[0mSuccessfully installed argparse-1.4.0 deepsearcher-0.0.1 fastapi-0.115.12 firecrawl-py-2.2.0 grpcio-1.67.1 milvus-lite-2.4.12 numpy-2.2.5 pymilvus-2.5.7 python-dotenv-1.1.0 starlette-0.46.2 ujson-5.10.0 uvicorn-0.34.2\n"
          ]
        },
        {
          "output_type": "display_data",
          "data": {
            "application/vnd.colab-display-data+json": {
              "pip_warning": {
                "packages": [
                  "argparse"
                ]
              },
              "id": "0420bfdcc43946f2a1502eee3faad866"
            }
          },
          "metadata": {}
        }
      ],
      "source": [
        "!pip install deepsearcher"
      ]
    },
    {
      "cell_type": "code",
      "source": [
        "from deepsearcher.configuration import Configuration, init_config\n",
        "from deepsearcher.online_query import query\n",
        "import os\n",
        "config = Configuration()"
      ],
      "metadata": {
        "id": "IQGTmOjJg-DI"
      },
      "execution_count": null,
      "outputs": []
    },
    {
      "cell_type": "code",
      "source": [
        "os.environ[\"OPENAI_API_KEY\"] = \"sk-sTMmF6HjOoQPwBUUCa3aA6C5C7844d189eAb5bAa5bA3CcFc\"\n",
        "os.environ[\"OPENAI_API_BASE\"] = \"http://oneapi.waidev.cc/v1\"\n",
        "# Customize your config here,\n",
        "# more configuration see the Configuration Details section below.\n",
        "config.set_provider_config(\"llm\", \"OpenAI\", {\n",
        "  \"model\":\"gpt-4o-mini\",\n",
        "  \"base_url\":\"http://oneapi.waidev.cc/v1\",\n",
        "  \"api_key\":\"sk-sTMmF6HjOoQPwBUUCa3aA6C5C7844d189eAb5bAa5bA3CcFc\"\n",
        "})\n",
        "config.set_provider_config(\"embedding\", \"OpenAIEmbedding\", {\n",
        "  \"model\":\"text-embedding-ada-002\",\n",
        "  \"base_url\":\"http://oneapi.waidev.cc/v1\",\n",
        "  \"api_key\":\"sk-sTMmF6HjOoQPwBUUCa3aA6C5C7844d189eAb5bAa5bA3CcFc\"\n",
        "})\n",
        "config.set_provider_config(\"vector_db\", \"Milvus\", {\"uri\": \"https://in03-8bd779eb0546110.serverless.gcp-us-west1.cloud.zilliz.com\", \"token\": \"a5aef259d630f1bf69258f134920e6e8965c17fe7845e890c8014f1f0cd81246984d9e9548c902ef61918630e9435d79b41189b9\"})\n",
        "init_config(config = config)"
      ],
      "metadata": {
        "id": "PtQtwGA0g57I"
      },
      "execution_count": null,
      "outputs": []
    },
    {
      "cell_type": "code",
      "source": [
        "!pip install tiktoken\n",
        "!pip install pdfplumber"
      ],
      "metadata": {
        "id": "qxgMqxBtkIpd"
      },
      "execution_count": null,
      "outputs": []
    },
    {
      "cell_type": "code",
      "source": [
        "import tiktoken\n",
        "import os\n",
        "\n",
        "import tiktoken\n",
        "import pdfplumber\n",
        "import os\n",
        "\n",
        "your_local_path = \"/content/drive/MyDrive/dataset/finacial_dataset/SEC Filings - AAPL, XOM, JPM/Apple/10K\"\n",
        "\n",
        "\n",
        "encoding = tiktoken.encoding_for_model(\"text-embedding-ada-002\")\n",
        "\n",
        "total_tokens = 0\n",
        "# 遍历目录下的所有文件\n",
        "for root, dirs, files in os.walk(your_local_path):\n",
        "    for file in files:\n",
        "        if file.endswith('.pdf'):\n",
        "            file_path = os.path.join(root, file)\n",
        "            try:\n",
        "                with pdfplumber.open(file_path) as pdf:\n",
        "                    text = \"\"\n",
        "                    for page in pdf.pages:\n",
        "                        text += page.extract_text()\n",
        "                    tokens = encoding.encode(text)\n",
        "                    total_tokens += len(tokens)\n",
        "            except Exception as e:\n",
        "                print(f\"Error reading {file_path}: {e}\")\n",
        "\n",
        "print(f\"Estimated total tokens: {total_tokens}\")"
      ],
      "metadata": {
        "colab": {
          "base_uri": "https://localhost:8080/"
        },
        "id": "coVLt8OckCRx",
        "outputId": "f809bced-ddc2-4041-d259-1f8b607d09a5"
      },
      "execution_count": null,
      "outputs": [
        {
          "output_type": "stream",
          "name": "stdout",
          "text": [
            "Estimated total tokens: 354032\n"
          ]
        }
      ]
    },
    {
      "cell_type": "code",
      "source": [
        "import tiktoken\n",
        "import os\n",
        "\n",
        "import tiktoken\n",
        "import pdfplumber\n",
        "import os\n",
        "\n",
        "your_local_path = \"/content/drive/MyDrive/dataset/finacial_dataset/SEC Filings - AAPL, XOM, JPM/Apple/10K\"\n",
        "\n",
        "# 假设使用的是 gpt-3.5-turbo 的编码方式\n",
        "encoding = tiktoken.encoding_for_model(\"gpt-4o-mini\")\n",
        "\n",
        "total_tokens = 0\n",
        "# 遍历目录下的所有文件\n",
        "for root, dirs, files in os.walk(your_local_path):\n",
        "    for file in files:\n",
        "        if file.endswith('.pdf'):\n",
        "            file_path = os.path.join(root, file)\n",
        "            try:\n",
        "                with pdfplumber.open(file_path) as pdf:\n",
        "                    text = \"\"\n",
        "                    for page in pdf.pages:\n",
        "                        text += page.extract_text()\n",
        "                    tokens = encoding.encode(text)\n",
        "                    total_tokens += len(tokens)\n",
        "            except Exception as e:\n",
        "                print(f\"Error reading {file_path}: {e}\")\n",
        "\n",
        "print(f\"Estimated total tokens: {total_tokens}\")"
      ],
      "metadata": {
        "colab": {
          "base_uri": "https://localhost:8080/"
        },
        "id": "sfZfaPPxoTEH",
        "outputId": "5ab167d6-8584-44ac-d3f0-8e0cf1020813"
      },
      "execution_count": null,
      "outputs": [
        {
          "output_type": "stream",
          "name": "stdout",
          "text": [
            "Estimated total tokens: 352610\n"
          ]
        }
      ]
    },
    {
      "cell_type": "code",
      "source": [
        "import tiktoken\n",
        "import os\n",
        "\n",
        "import tiktoken\n",
        "import pdfplumber\n",
        "import os\n",
        "\n",
        "your_local_path = \"/content/drive/MyDrive/dataset/finacial_dataset/SEC Filings - AAPL, XOM, JPM/Apple/10K\"\n",
        "\n",
        "# 假设使用的是 gpt-3.5-turbo 的编码方式\n",
        "encoding = tiktoken.encoding_for_model(\"Deepseek-V3\")\n",
        "\n",
        "total_tokens = 0\n",
        "# 遍历目录下的所有文件\n",
        "for root, dirs, files in os.walk(your_local_path):\n",
        "    for file in files:\n",
        "        if file.endswith('.pdf'):\n",
        "            file_path = os.path.join(root, file)\n",
        "            try:\n",
        "                with pdfplumber.open(file_path) as pdf:\n",
        "                    text = \"\"\n",
        "                    for page in pdf.pages:\n",
        "                        text += page.extract_text()\n",
        "                    tokens = encoding.encode(text)\n",
        "                    total_tokens += len(tokens)\n",
        "            except Exception as e:\n",
        "                print(f\"Error reading {file_path}: {e}\")\n",
        "\n",
        "print(f\"Estimated total tokens: {total_tokens}\")"
      ],
      "metadata": {
        "id": "4sJSNhajpHjE"
      },
      "execution_count": null,
      "outputs": []
    },
    {
      "cell_type": "code",
      "source": [
        "your_local_path=\"/content/drive/MyDrive/dataset/finacial_dataset/SEC Filings - AAPL, XOM, JPM/Apple/10K\"\n",
        "# Load your local data\n",
        "from deepsearcher.offline_loading import load_from_local_files\n",
        "load_from_local_files(paths_or_directory=your_local_path)\n",
        "\n",
        "# (Optional) Load from web crawling (`FIRECRAWL_API_KEY` env variable required)\n",
        "# from deepsearcher.offline_loading import load_from_website\n",
        "# load_from_website(urls=website_url)\n"
      ],
      "metadata": {
        "colab": {
          "base_uri": "https://localhost:8080/"
        },
        "id": "hfAkfO-2jk8c",
        "outputId": "94aaa200-70c6-4ed0-d019-0c150981ad5d"
      },
      "execution_count": null,
      "outputs": [
        {
          "output_type": "stream",
          "name": "stderr",
          "text": [
            "Loading files: 100%|██████████| 1/1 [01:45<00:00, 105.46s/it]\n",
            "Embedding chunks: 100%|██████████| 6/6 [00:13<00:00,  2.24s/it]\n"
          ]
        }
      ]
    },
    {
      "cell_type": "code",
      "source": [
        "\n",
        " # Query\n",
        "result = query(\" What will be the net sales of iPhone in 2025?\") # Your question here"
      ],
      "metadata": {
        "colab": {
          "base_uri": "https://localhost:8080/"
        },
        "id": "P2uAfbeA4Jqz",
        "outputId": "4f071424-74fb-4873-aeaf-ac8281752698"
      },
      "execution_count": null,
      "outputs": [
        {
          "output_type": "stream",
          "name": "stderr",
          "text": [
            "<think> Select agent [ChainOfRAG] to answer the query [ What will be the net sales of iPhone in 2025?] </think>\n",
            "\n",
            "INFO:progress:<think> Select agent [ChainOfRAG] to answer the query [ What will be the net sales of iPhone in 2025?] </think>\n",
            "\n",
            ">> Iteration: 1\n",
            "\n",
            "INFO:progress:>> Iteration: 1\n",
            "\n",
            "<think> Perform search [What are the projected iPhone sales figures for 2025?] on the vector DB collection: deepsearcher </think>\n",
            "\n",
            "INFO:progress:<think> Perform search [What are the projected iPhone sales figures for 2025?] on the vector DB collection: deepsearcher </think>\n",
            "\n",
            "<search> Search [What are the projected iPhone sales figures for 2025?] in [deepsearcher]...  </search>\n",
            "\n",
            "INFO:progress:<search> Search [What are the projected iPhone sales figures for 2025?] in [deepsearcher]...  </search>\n",
            "\n",
            ">> Iteration: 2\n",
            "\n",
            "INFO:progress:>> Iteration: 2\n",
            "\n",
            "<think> Perform search [What are the historical iPhone sales figures for the previous years?] on the vector DB collection: deepsearcher </think>\n",
            "\n",
            "INFO:progress:<think> Perform search [What are the historical iPhone sales figures for the previous years?] on the vector DB collection: deepsearcher </think>\n",
            "\n",
            "<search> Search [What are the historical iPhone sales figures for the previous years?] in [deepsearcher]...  </search>\n",
            "\n",
            "INFO:progress:<search> Search [What are the historical iPhone sales figures for the previous years?] in [deepsearcher]...  </search>\n",
            "\n",
            ">> Iteration: 3\n",
            "\n",
            "INFO:progress:>> Iteration: 3\n",
            "\n",
            "<think> Perform search [What are the market trends for smartphone sales expected in 2025?] on the vector DB collection: deepsearcher </think>\n",
            "\n",
            "INFO:progress:<think> Perform search [What are the market trends for smartphone sales expected in 2025?] on the vector DB collection: deepsearcher </think>\n",
            "\n",
            "<search> Search [What are the market trends for smartphone sales expected in 2025?] in [deepsearcher]...  </search>\n",
            "\n",
            "INFO:progress:<search> Search [What are the market trends for smartphone sales expected in 2025?] in [deepsearcher]...  </search>\n",
            "\n",
            "<think> Summarize answer from all 4 retrieved chunks... </think>\n",
            "\n",
            "INFO:progress:<think> Summarize answer from all 4 retrieved chunks... </think>\n",
            "\n",
            "\n",
            "==== FINAL ANSWER====\n",
            "\n",
            "INFO:progress:\n",
            "==== FINAL ANSWER====\n",
            "\n",
            "No relevant information found.\n",
            "INFO:progress:No relevant information found.\n"
          ]
        }
      ]
    },
    {
      "cell_type": "code",
      "source": [
        "# Query\n",
        "result = query(\"Dissect Apple’s gross margin by product category and explain how shifts in product mix impact margin volatility. What trend do you forecast for the next 3 years?\") # Your question here"
      ],
      "metadata": {
        "colab": {
          "base_uri": "https://localhost:8080/"
        },
        "id": "PhrOj_IJciWk",
        "outputId": "55ead4ac-0b3b-4808-98d4-c5f3d8b3e919"
      },
      "execution_count": null,
      "outputs": [
        {
          "output_type": "stream",
          "name": "stderr",
          "text": [
            "<think> Select agent [ChainOfRAG] to answer the query [Dissect Apple’s gross margin by product category and explain how shifts in product mix impact margin volatility. What trend do you forecast for the next 3 years?] </think>\n",
            "\n",
            "INFO:progress:<think> Select agent [ChainOfRAG] to answer the query [Dissect Apple’s gross margin by product category and explain how shifts in product mix impact margin volatility. What trend do you forecast for the next 3 years?] </think>\n",
            "\n",
            ">> Iteration: 1\n",
            "\n",
            "INFO:progress:>> Iteration: 1\n",
            "\n",
            "<think> Perform search [What are the current gross margins for Apple's major product categories?] on the vector DB collection: deepsearcher </think>\n",
            "\n",
            "INFO:progress:<think> Perform search [What are the current gross margins for Apple's major product categories?] on the vector DB collection: deepsearcher </think>\n",
            "\n",
            "<search> Search [What are the current gross margins for Apple's major product categories?] in [deepsearcher]...  </search>\n",
            "\n",
            "INFO:progress:<search> Search [What are the current gross margins for Apple's major product categories?] in [deepsearcher]...  </search>\n",
            "\n",
            ">> Iteration: 2\n",
            "\n",
            "INFO:progress:>> Iteration: 2\n",
            "\n",
            "<think> Perform search [What are Apple's gross margins for the last three years?] on the vector DB collection: deepsearcher </think>\n",
            "\n",
            "INFO:progress:<think> Perform search [What are Apple's gross margins for the last three years?] on the vector DB collection: deepsearcher </think>\n",
            "\n",
            "<search> Search [What are Apple's gross margins for the last three years?] in [deepsearcher]...  </search>\n",
            "\n",
            "INFO:progress:<search> Search [What are Apple's gross margins for the last three years?] in [deepsearcher]...  </search>\n",
            "\n",
            ">> Iteration: 3\n",
            "\n",
            "INFO:progress:>> Iteration: 3\n",
            "\n",
            "<think> Perform search [What are the gross margins for each of Apple's major product categories for the last three years?] on the vector DB collection: deepsearcher </think>\n",
            "\n",
            "INFO:progress:<think> Perform search [What are the gross margins for each of Apple's major product categories for the last three years?] on the vector DB collection: deepsearcher </think>\n",
            "\n",
            "<search> Search [What are the gross margins for each of Apple's major product categories for the last three years?] in [deepsearcher]...  </search>\n",
            "\n",
            "INFO:progress:<search> Search [What are the gross margins for each of Apple's major product categories for the last three years?] in [deepsearcher]...  </search>\n",
            "\n",
            "<think> Summarize answer from all 3 retrieved chunks... </think>\n",
            "\n",
            "INFO:progress:<think> Summarize answer from all 3 retrieved chunks... </think>\n",
            "\n",
            "\n",
            "==== FINAL ANSWER====\n",
            "\n",
            "INFO:progress:\n",
            "==== FINAL ANSWER====\n",
            "\n",
            "Apple's overall gross margins for the last three years were as follows: $169,148 million in 2023, $170,782 million in 2022, and $152,836 million in 2021. However, specific gross margin details by product category (such as Products and Services) were not provided in the available data. \n",
            "\n",
            "The shift in product mix can significantly impact margin volatility. For instance, Apple experienced higher Services net sales in 2023, which typically yield higher margins than product sales. Nonetheless, the Services gross margin percentage decreased due to rising Services costs and currency fluctuations. \n",
            "\n",
            "Given these factors and the historical trend of volatility in gross margins, it can be anticipated that Apple's gross margins may continue to experience fluctuations over the next three years, influenced by product mix changes, cost structures, and external economic conditions.\n",
            "INFO:progress:Apple's overall gross margins for the last three years were as follows: $169,148 million in 2023, $170,782 million in 2022, and $152,836 million in 2021. However, specific gross margin details by product category (such as Products and Services) were not provided in the available data. \n",
            "\n",
            "The shift in product mix can significantly impact margin volatility. For instance, Apple experienced higher Services net sales in 2023, which typically yield higher margins than product sales. Nonetheless, the Services gross margin percentage decreased due to rising Services costs and currency fluctuations. \n",
            "\n",
            "Given these factors and the historical trend of volatility in gross margins, it can be anticipated that Apple's gross margins may continue to experience fluctuations over the next three years, influenced by product mix changes, cost structures, and external economic conditions.\n"
          ]
        }
      ]
    },
    {
      "cell_type": "code",
      "source": [
        "# Query\n",
        "result = query(\"How do Apple's capital return programs (buybacks and dividends) influence its valuation multiples relative to peers?\") # Your question here"
      ],
      "metadata": {
        "colab": {
          "base_uri": "https://localhost:8080/"
        },
        "id": "1B9PM744bpAL",
        "outputId": "2bcf611e-9c95-434f-cf48-77de5beb4788"
      },
      "execution_count": null,
      "outputs": [
        {
          "output_type": "stream",
          "name": "stderr",
          "text": [
            "<think> Select agent [ChainOfRAG] to answer the query [How do Apple's capital return programs (buybacks and dividends) influence its valuation multiples relative to peers?] </think>\n",
            "\n",
            "INFO:progress:<think> Select agent [ChainOfRAG] to answer the query [How do Apple's capital return programs (buybacks and dividends) influence its valuation multiples relative to peers?] </think>\n",
            "\n",
            ">> Iteration: 1\n",
            "\n",
            "INFO:progress:>> Iteration: 1\n",
            "\n",
            "<think> Perform search [What are the current capital return programs Apple is using?] on the vector DB collection: deepsearcher </think>\n",
            "\n",
            "INFO:progress:<think> Perform search [What are the current capital return programs Apple is using?] on the vector DB collection: deepsearcher </think>\n",
            "\n",
            "<search> Search [What are the current capital return programs Apple is using?] in [deepsearcher]...  </search>\n",
            "\n",
            "INFO:progress:<search> Search [What are the current capital return programs Apple is using?] in [deepsearcher]...  </search>\n",
            "\n",
            ">> Iteration: 2\n",
            "\n",
            "INFO:progress:>> Iteration: 2\n",
            "\n",
            "<think> Perform search [What dividends has Apple paid in the last year?] on the vector DB collection: deepsearcher </think>\n",
            "\n",
            "INFO:progress:<think> Perform search [What dividends has Apple paid in the last year?] on the vector DB collection: deepsearcher </think>\n",
            "\n",
            "<search> Search [What dividends has Apple paid in the last year?] in [deepsearcher]...  </search>\n",
            "\n",
            "INFO:progress:<search> Search [What dividends has Apple paid in the last year?] in [deepsearcher]...  </search>\n",
            "\n",
            ">> Iteration: 3\n",
            "\n",
            "INFO:progress:>> Iteration: 3\n",
            "\n",
            "<think> Perform search [What are Apple's valuation multiples compared to its peers?] on the vector DB collection: deepsearcher </think>\n",
            "\n",
            "INFO:progress:<think> Perform search [What are Apple's valuation multiples compared to its peers?] on the vector DB collection: deepsearcher </think>\n",
            "\n",
            "<search> Search [What are Apple's valuation multiples compared to its peers?] in [deepsearcher]...  </search>\n",
            "\n",
            "INFO:progress:<search> Search [What are Apple's valuation multiples compared to its peers?] in [deepsearcher]...  </search>\n",
            "\n",
            "<think> Summarize answer from all 3 retrieved chunks... </think>\n",
            "\n",
            "INFO:progress:<think> Summarize answer from all 3 retrieved chunks... </think>\n",
            "\n",
            "\n",
            "==== FINAL ANSWER====\n",
            "\n",
            "INFO:progress:\n",
            "==== FINAL ANSWER====\n",
            "\n",
            "Apple's capital return programs, which include a share repurchase program authorized for up to $90 billion (of which $15.9 billion has been utilized) and accelerated share repurchase agreements totaling $5.0 billion, alongside dividends and dividend equivalents of $14.793 billion paid in the last year, likely influence its valuation multiples by enhancing shareholder value and potentially leading to a higher stock price. This focus on returning capital to shareholders can positively affect investor perception and demand for the stock, possibly resulting in higher valuation multiples relative to peers that may not have similar robust capital return strategies.\n",
            "INFO:progress:Apple's capital return programs, which include a share repurchase program authorized for up to $90 billion (of which $15.9 billion has been utilized) and accelerated share repurchase agreements totaling $5.0 billion, alongside dividends and dividend equivalents of $14.793 billion paid in the last year, likely influence its valuation multiples by enhancing shareholder value and potentially leading to a higher stock price. This focus on returning capital to shareholders can positively affect investor perception and demand for the stock, possibly resulting in higher valuation multiples relative to peers that may not have similar robust capital return strategies.\n"
          ]
        }
      ]
    },
    {
      "cell_type": "code",
      "source": [
        "# Query\n",
        "result = query(\"What is the underlying reason behind Apple's relatively low R&D spending as a percentage of revenue compared to other Big Tech firms, and what does that imply about its capital allocation strategy?\") # Your question here"
      ],
      "metadata": {
        "colab": {
          "base_uri": "https://localhost:8080/"
        },
        "id": "fyc-JDHacz9z",
        "outputId": "e5b1e70f-638f-49fc-a516-846436c08065"
      },
      "execution_count": null,
      "outputs": [
        {
          "output_type": "stream",
          "name": "stderr",
          "text": [
            "<think> Select agent [ChainOfRAG] to answer the query [What is the underlying reason behind Apple's relatively low R&D spending as a percentage of revenue compared to other Big Tech firms, and what does that imply about its capital allocation strategy?] </think>\n",
            "\n",
            "INFO:progress:<think> Select agent [ChainOfRAG] to answer the query [What is the underlying reason behind Apple's relatively low R&D spending as a percentage of revenue compared to other Big Tech firms, and what does that imply about its capital allocation strategy?] </think>\n",
            "\n",
            ">> Iteration: 1\n",
            "\n",
            "INFO:progress:>> Iteration: 1\n",
            "\n",
            "<think> Perform search [What are Apple's recent R&D spending figures compared to other Big Tech firms?] on the vector DB collection: deepsearcher </think>\n",
            "\n",
            "INFO:progress:<think> Perform search [What are Apple's recent R&D spending figures compared to other Big Tech firms?] on the vector DB collection: deepsearcher </think>\n",
            "\n",
            "<search> Search [What are Apple's recent R&D spending figures compared to other Big Tech firms?] in [deepsearcher]...  </search>\n",
            "\n",
            "INFO:progress:<search> Search [What are Apple's recent R&D spending figures compared to other Big Tech firms?] in [deepsearcher]...  </search>\n",
            "\n",
            ">> Iteration: 2\n",
            "\n",
            "INFO:progress:>> Iteration: 2\n",
            "\n",
            "<think> Perform search [What is Apple's total R&D spending for the most recent fiscal year?] on the vector DB collection: deepsearcher </think>\n",
            "\n",
            "INFO:progress:<think> Perform search [What is Apple's total R&D spending for the most recent fiscal year?] on the vector DB collection: deepsearcher </think>\n",
            "\n",
            "<search> Search [What is Apple's total R&D spending for the most recent fiscal year?] in [deepsearcher]...  </search>\n",
            "\n",
            "INFO:progress:<search> Search [What is Apple's total R&D spending for the most recent fiscal year?] in [deepsearcher]...  </search>\n",
            "\n",
            ">> Iteration: 3\n",
            "\n",
            "INFO:progress:>> Iteration: 3\n",
            "\n",
            "<think> Perform search [What is Apple's revenue for the most recent fiscal year?] on the vector DB collection: deepsearcher </think>\n",
            "\n",
            "INFO:progress:<think> Perform search [What is Apple's revenue for the most recent fiscal year?] on the vector DB collection: deepsearcher </think>\n",
            "\n",
            "<search> Search [What is Apple's revenue for the most recent fiscal year?] in [deepsearcher]...  </search>\n",
            "\n",
            "INFO:progress:<search> Search [What is Apple's revenue for the most recent fiscal year?] in [deepsearcher]...  </search>\n",
            "\n",
            "<think> Summarize answer from all 3 retrieved chunks... </think>\n",
            "\n",
            "INFO:progress:<think> Summarize answer from all 3 retrieved chunks... </think>\n",
            "\n",
            "\n",
            "==== FINAL ANSWER====\n",
            "\n",
            "INFO:progress:\n",
            "==== FINAL ANSWER====\n",
            "\n",
            "Apple's R&D spending for the fiscal year 2024 amounted to $31,370 million, which represented 8% of its total revenue of $391,035 million. This relatively low percentage compared to other Big Tech firms may indicate a capital allocation strategy that prioritizes other areas such as product development, marketing, or stock buybacks over extensive R&D. Apple's focus on leveraging existing technology and optimizing product offerings could also suggest a belief in maintaining efficiency and profitability with less reliance on heavy investment in research and development.\n",
            "INFO:progress:Apple's R&D spending for the fiscal year 2024 amounted to $31,370 million, which represented 8% of its total revenue of $391,035 million. This relatively low percentage compared to other Big Tech firms may indicate a capital allocation strategy that prioritizes other areas such as product development, marketing, or stock buybacks over extensive R&D. Apple's focus on leveraging existing technology and optimizing product offerings could also suggest a belief in maintaining efficiency and profitability with less reliance on heavy investment in research and development.\n"
          ]
        }
      ]
    },
    {
      "cell_type": "code",
      "source": [
        "# Query\n",
        "result = query(\"How do you value Apple’s Services segment independently of its Hardware business? What multiple would you assign and why?\") # Your question here"
      ],
      "metadata": {
        "colab": {
          "base_uri": "https://localhost:8080/"
        },
        "id": "VC374R06c0dN",
        "outputId": "aec0aae6-7e1a-4f17-8210-3b3d1a8e73b6"
      },
      "execution_count": null,
      "outputs": [
        {
          "output_type": "stream",
          "name": "stderr",
          "text": [
            "<think> Select agent [ChainOfRAG] to answer the query [How do you value Apple’s Services segment independently of its Hardware business? What multiple would you assign and why?] </think>\n",
            "\n",
            "INFO:progress:<think> Select agent [ChainOfRAG] to answer the query [How do you value Apple’s Services segment independently of its Hardware business? What multiple would you assign and why?] </think>\n",
            "\n",
            ">> Iteration: 1\n",
            "\n",
            "INFO:progress:>> Iteration: 1\n",
            "\n",
            "<think> Perform search [What is the revenue breakdown for Apple's Services segment compared to its Hardware business?] on the vector DB collection: deepsearcher </think>\n",
            "\n",
            "INFO:progress:<think> Perform search [What is the revenue breakdown for Apple's Services segment compared to its Hardware business?] on the vector DB collection: deepsearcher </think>\n",
            "\n",
            "<search> Search [What is the revenue breakdown for Apple's Services segment compared to its Hardware business?] in [deepsearcher]...  </search>\n",
            "\n",
            "INFO:progress:<search> Search [What is the revenue breakdown for Apple's Services segment compared to its Hardware business?] in [deepsearcher]...  </search>\n",
            "\n",
            ">> Iteration: 2\n",
            "\n",
            "INFO:progress:>> Iteration: 2\n",
            "\n",
            "<think> Perform search [What are the key metrics used to value the Services segment of a technology company?] on the vector DB collection: deepsearcher </think>\n",
            "\n",
            "INFO:progress:<think> Perform search [What are the key metrics used to value the Services segment of a technology company?] on the vector DB collection: deepsearcher </think>\n",
            "\n",
            "<search> Search [What are the key metrics used to value the Services segment of a technology company?] in [deepsearcher]...  </search>\n",
            "\n",
            "INFO:progress:<search> Search [What are the key metrics used to value the Services segment of a technology company?] in [deepsearcher]...  </search>\n",
            "\n",
            ">> Iteration: 3\n",
            "\n",
            "INFO:progress:>> Iteration: 3\n",
            "\n",
            "<think> Perform search [What are the common valuation multiples used for technology service segments?] on the vector DB collection: deepsearcher </think>\n",
            "\n",
            "INFO:progress:<think> Perform search [What are the common valuation multiples used for technology service segments?] on the vector DB collection: deepsearcher </think>\n",
            "\n",
            "<search> Search [What are the common valuation multiples used for technology service segments?] in [deepsearcher]...  </search>\n",
            "\n",
            "INFO:progress:<search> Search [What are the common valuation multiples used for technology service segments?] in [deepsearcher]...  </search>\n",
            "\n",
            "<think> Summarize answer from all 4 retrieved chunks... </think>\n",
            "\n",
            "INFO:progress:<think> Summarize answer from all 4 retrieved chunks... </think>\n",
            "\n",
            "\n",
            "==== FINAL ANSWER====\n",
            "\n",
            "INFO:progress:\n",
            "==== FINAL ANSWER====\n",
            "\n",
            "Valuing Apple’s Services segment independently of its Hardware business involves analyzing its revenue growth rates, profitability margins, and market position in comparison to similar companies in the technology sector. Given that Apple's Services segment generated $53,768 million in revenue in 2020, increasing to $68,425 million in 2021, and reaching $96,169 million in 2024, it demonstrates strong growth potential (16% in 2021 and 13% in 2024).\n",
            "\n",
            "For a valuation multiple, a common approach would be to use the Price-to-Sales (P/S) ratio or the Enterprise Value-to-Sales (EV/S) ratio, typically ranging from 5x to 10x for high-growth tech service companies, depending on profitability and market conditions. Considering Apple's Services revenue growth and profitability, a P/S multiple of around 7x could be appropriate, reflecting a balance between growth expectations and comparative market valuations. This would yield a valuation for the Services segment of approximately $673.18 billion based on the latest revenue figure of $96,169 million.\n",
            "INFO:progress:Valuing Apple’s Services segment independently of its Hardware business involves analyzing its revenue growth rates, profitability margins, and market position in comparison to similar companies in the technology sector. Given that Apple's Services segment generated $53,768 million in revenue in 2020, increasing to $68,425 million in 2021, and reaching $96,169 million in 2024, it demonstrates strong growth potential (16% in 2021 and 13% in 2024).\n",
            "\n",
            "For a valuation multiple, a common approach would be to use the Price-to-Sales (P/S) ratio or the Enterprise Value-to-Sales (EV/S) ratio, typically ranging from 5x to 10x for high-growth tech service companies, depending on profitability and market conditions. Considering Apple's Services revenue growth and profitability, a P/S multiple of around 7x could be appropriate, reflecting a balance between growth expectations and comparative market valuations. This would yield a valuation for the Services segment of approximately $673.18 billion based on the latest revenue figure of $96,169 million.\n"
          ]
        }
      ]
    },
    {
      "cell_type": "code",
      "source": [
        "# Query\n",
        "result = query(\"Can you explain how Apple’s deferred revenue from Services and Devices (e.g., AppleCare, subscriptions) distorts its GAAP financials and how to adjust for that?\") # Your question here"
      ],
      "metadata": {
        "colab": {
          "base_uri": "https://localhost:8080/"
        },
        "id": "xbe6XWkGc0_q",
        "outputId": "700625b5-2df4-441c-a989-b628ea2c49e9"
      },
      "execution_count": null,
      "outputs": [
        {
          "output_type": "stream",
          "name": "stderr",
          "text": [
            "<think> Select agent [ChainOfRAG] to answer the query [Can you explain how Apple’s deferred revenue from Services and Devices (e.g., AppleCare, subscriptions) distorts its GAAP financials and how to adjust for that?] </think>\n",
            "\n",
            "INFO:progress:<think> Select agent [ChainOfRAG] to answer the query [Can you explain how Apple’s deferred revenue from Services and Devices (e.g., AppleCare, subscriptions) distorts its GAAP financials and how to adjust for that?] </think>\n",
            "\n",
            ">> Iteration: 1\n",
            "\n",
            "INFO:progress:>> Iteration: 1\n",
            "\n",
            "<think> Perform search [What is Apple's current deferred revenue from Services and Devices?] on the vector DB collection: deepsearcher </think>\n",
            "\n",
            "INFO:progress:<think> Perform search [What is Apple's current deferred revenue from Services and Devices?] on the vector DB collection: deepsearcher </think>\n",
            "\n",
            "<search> Search [What is Apple's current deferred revenue from Services and Devices?] in [deepsearcher]...  </search>\n",
            "\n",
            "INFO:progress:<search> Search [What is Apple's current deferred revenue from Services and Devices?] in [deepsearcher]...  </search>\n",
            "\n",
            ">> Iteration: 2\n",
            "\n",
            "INFO:progress:>> Iteration: 2\n",
            "\n",
            "<think> Perform search [What is the breakdown of Apple's deferred revenue between Services and Devices?] on the vector DB collection: deepsearcher </think>\n",
            "\n",
            "INFO:progress:<think> Perform search [What is the breakdown of Apple's deferred revenue between Services and Devices?] on the vector DB collection: deepsearcher </think>\n",
            "\n",
            "<search> Search [What is the breakdown of Apple's deferred revenue between Services and Devices?] in [deepsearcher]...  </search>\n",
            "\n",
            "INFO:progress:<search> Search [What is the breakdown of Apple's deferred revenue between Services and Devices?] in [deepsearcher]...  </search>\n",
            "\n",
            ">> Iteration: 3\n",
            "\n",
            "INFO:progress:>> Iteration: 3\n",
            "\n",
            "<think> Perform search [What specific components contribute to Apple's deferred revenue in Services?] on the vector DB collection: deepsearcher </think>\n",
            "\n",
            "INFO:progress:<think> Perform search [What specific components contribute to Apple's deferred revenue in Services?] on the vector DB collection: deepsearcher </think>\n",
            "\n",
            "<search> Search [What specific components contribute to Apple's deferred revenue in Services?] in [deepsearcher]...  </search>\n",
            "\n",
            "INFO:progress:<search> Search [What specific components contribute to Apple's deferred revenue in Services?] in [deepsearcher]...  </search>\n",
            "\n",
            "<think> Summarize answer from all 6 retrieved chunks... </think>\n",
            "\n",
            "INFO:progress:<think> Summarize answer from all 6 retrieved chunks... </think>\n",
            "\n",
            "\n",
            "==== FINAL ANSWER====\n",
            "\n",
            "INFO:progress:\n",
            "==== FINAL ANSWER====\n",
            "\n",
            "Apple's deferred revenue from Services and Devices, including components such as AppleCare and subscriptions, can distort its GAAP financials by inflating the recognized revenue reported in the current period. This occurs because revenue is recognized for products or services sold, but the associated obligations may extend over a longer term. For instance, Apple's deferred revenue, as of September 30, 2023, stands at $12.1 billion, indicating that a significant portion of this revenue will be recognized in future periods as services are delivered. To adjust for this distortion, analysts can back out deferred revenue from current financials when assessing operating performance and cash flow to provide a clearer picture of the company's actual revenue realized during the period, thereby emphasizing revenue that has been earned rather than reported. This adjustment can help stakeholders evaluate the company's financial health without the impact of unearned revenue from long-term service contracts and subscriptions.\n",
            "INFO:progress:Apple's deferred revenue from Services and Devices, including components such as AppleCare and subscriptions, can distort its GAAP financials by inflating the recognized revenue reported in the current period. This occurs because revenue is recognized for products or services sold, but the associated obligations may extend over a longer term. For instance, Apple's deferred revenue, as of September 30, 2023, stands at $12.1 billion, indicating that a significant portion of this revenue will be recognized in future periods as services are delivered. To adjust for this distortion, analysts can back out deferred revenue from current financials when assessing operating performance and cash flow to provide a clearer picture of the company's actual revenue realized during the period, thereby emphasizing revenue that has been earned rather than reported. This adjustment can help stakeholders evaluate the company's financial health without the impact of unearned revenue from long-term service contracts and subscriptions.\n"
          ]
        }
      ]
    }
  ]
}